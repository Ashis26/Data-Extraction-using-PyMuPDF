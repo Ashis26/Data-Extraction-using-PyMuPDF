{
 "cells": [
  {
   "cell_type": "code",
   "execution_count": 1,
   "id": "73240899",
   "metadata": {},
   "outputs": [],
   "source": [
    "import fitz\n",
    "import pandas as pd "
   ]
  },
  {
   "cell_type": "code",
   "execution_count": 2,
   "id": "aa0fe6cb",
   "metadata": {},
   "outputs": [],
   "source": [
    "# This func select the words contained in the box,sort the words and return in form of string\n",
    "def make_text(words):\n",
    "    line_dict = {} \n",
    "    words.sort(key=lambda w: w[0])\n",
    "    for w in words:  \n",
    "        y1 = round(w[3], 1)  \n",
    "        word = w[4] \n",
    "        line = line_dict.get(y1, [])  \n",
    "        line.append(word)  \n",
    "        line_dict[y1] = line  \n",
    "    lines = list(line_dict.items())\n",
    "    lines.sort()  \n",
    "    return \"\\n\".join([\" \".join(line[1]) for line in lines])"
   ]
  },
  {
   "cell_type": "code",
   "execution_count": 3,
   "id": "74f63160",
   "metadata": {},
   "outputs": [],
   "source": [
    "#PDF file object\n",
    "doc = fitz.open('unstructured.pdf')"
   ]
  },
  {
   "cell_type": "markdown",
   "id": "0b89deb3",
   "metadata": {},
   "source": [
    "## For 1st page and 1 annot"
   ]
  },
  {
   "cell_type": "code",
   "execution_count": 4,
   "id": "31062a99",
   "metadata": {},
   "outputs": [],
   "source": [
    "#First page will be extracted\n",
    "page1 = doc[0]"
   ]
  },
  {
   "cell_type": "code",
   "execution_count": 5,
   "id": "2ceb88f2",
   "metadata": {},
   "outputs": [],
   "source": [
    "# Extract all words of the page\n",
    "words = page1.get_text(\"words\")"
   ]
  },
  {
   "cell_type": "code",
   "execution_count": 6,
   "id": "13f88025",
   "metadata": {},
   "outputs": [
    {
     "data": {
      "text/plain": [
       "(373.25,\n",
       " 246.29598999023438,\n",
       " 402.6600341796875,\n",
       " 253.18099975585938,\n",
       " 'DIRECTION',\n",
       " 0,\n",
       " 0,\n",
       " 0)"
      ]
     },
     "execution_count": 6,
     "metadata": {},
     "output_type": "execute_result"
    }
   ],
   "source": [
    "words[0]"
   ]
  },
  {
   "cell_type": "code",
   "execution_count": 7,
   "id": "b9bc7e32",
   "metadata": {},
   "outputs": [],
   "source": [
    "first_annots=[]"
   ]
  },
  {
   "cell_type": "code",
   "execution_count": 8,
   "id": "507cb28d",
   "metadata": {},
   "outputs": [
    {
     "data": {
      "text/plain": [
       "Rect(366.260009765625, 27.6500244140625, 573.97998046875, 61.3800048828125)"
      ]
     },
     "execution_count": 8,
     "metadata": {},
     "output_type": "execute_result"
    }
   ],
   "source": [
    "#Extract the coordinates of first object\n",
    "rec=page1.first_annot.rect\n",
    "rec"
   ]
  },
  {
   "cell_type": "code",
   "execution_count": 9,
   "id": "b8a0e4d6",
   "metadata": {},
   "outputs": [
    {
     "name": "stdout",
     "output_type": "stream",
     "text": [
      "['LOCAL REPORT NUMBER *\\n2 1 0 0 9 0 4 8']\n"
     ]
    }
   ],
   "source": [
    "#Information of words in first object is stored in mywords\n",
    "mywords = [w for w in words if fitz.Rect(w[:4]) in rec]\n",
    "ann= make_text(mywords)\n",
    "first_annots.append(ann)\n",
    "print(first_annots)"
   ]
  },
  {
   "cell_type": "code",
   "execution_count": 11,
   "id": "fb86054e",
   "metadata": {},
   "outputs": [
    {
     "data": {
      "text/plain": [
       "1"
      ]
     },
     "execution_count": 11,
     "metadata": {},
     "output_type": "execute_result"
    }
   ],
   "source": [
    "len(first_annots)"
   ]
  },
  {
   "cell_type": "code",
   "execution_count": 12,
   "id": "89378bdf",
   "metadata": {},
   "outputs": [
    {
     "name": "stdout",
     "output_type": "stream",
     "text": [
      "['LOCAL REPORT NUMBER *\\n2 1 0 0 9 0 4 8']\n"
     ]
    }
   ],
   "source": [
    "print(first_annots)"
   ]
  },
  {
   "cell_type": "markdown",
   "id": "02f31ae3",
   "metadata": {},
   "source": [
    "## For all annots and all pages of PDF"
   ]
  },
  {
   "cell_type": "code",
   "execution_count": 13,
   "id": "b721230a",
   "metadata": {},
   "outputs": [],
   "source": [
    "all_annots=[]"
   ]
  },
  {
   "cell_type": "code",
   "execution_count": 14,
   "id": "b038d0df",
   "metadata": {},
   "outputs": [],
   "source": [
    "# Extracting each page of document and all the annots/rectanges\n",
    "for pageno in range(0,len(doc)-1):\n",
    "    page = doc[pageno]\n",
    "    words = page.get_text(\"words\")\n",
    "    for annot in page.annots():\n",
    "        if annot!=None:\n",
    "            rec=annot.rect\n",
    "            mywords = [w for w in words if fitz.Rect(w[:4]) in rec]\n",
    "            ann= make_text(mywords)\n",
    "            all_annots.append(ann)"
   ]
  },
  {
   "cell_type": "code",
   "execution_count": 15,
   "id": "6224e27b",
   "metadata": {},
   "outputs": [],
   "source": [
    "#len(all_annots)"
   ]
  },
  {
   "cell_type": "code",
   "execution_count": 16,
   "id": "c3c89a29",
   "metadata": {},
   "outputs": [
    {
     "name": "stdout",
     "output_type": "stream",
     "text": [
      "['LOCAL REPORT NUMBER *\\n2 1 0 0 9 0 4 8', 'CRASH SEVERITY\\nFATAL\\n1-\\nSERIOUS INJURY\\nSUSPECTED\\n2-\\n5\\nMINOR INJURY\\n3-\\nSUSPECTED\\nINJURY POSSIBLE\\n4-\\nPROPERTY DAMAGE\\n5-\\nONLY', 'NUMBER OF UNITS\\n0 1', 'CRASH DATE/TIME *\\n0 4 2 5 2 0 2 1 0 5 2 8', 'LOCATION: CITY, VILLAGE, TOWNSHIP *\\nMANSFIELD', 'COUNTY *\\n7 0', 'LOCALITY *\\n1. CITY\\n2. VILLAGE\\n1\\n3. TOWNSHIP', 'LATITUDE\\n4 0 7 9 0 6 2 0\\n.', 'LONGITUDE\\n-8 2 5 1 3 2 1 0\\n.', 'MANNER OF CRASH COLLISION/IMPACT\\n1 - NOT COLLISSION\\n4 - REAR-TO-REAR\\nBETWEEN\\n5 - BACKING\\nTWO MOTOR\\n6 - ANGLE\\nVEHICLES IN\\n7 - SIDESWIPE, SAME DIRECTION\\nTRANSPORT\\n8 - SIDESWIPE, OPPOSITE DIRECTION\\n2 - REAR-END\\n9 - OTHER / UNKNOWN\\n3 - HEAD-ON\\n1', \"OFFICER'S NAME*\\nCAROLYN YOUNG\", \"OFFICER'S BADGE NUMBER*\\n1 7 5 4\", 'VEHICLE IDENTIFICATION #\\n2 H K R W 6 H 3 1 J H 2 0 9 8 1 1', 'VEHICLE YEAR\\n2 0 1 8', 'VEHICLE MAKE\\nHONDA', 'VEHICLE MODEL\\nCRV', 'COLOR\\nSILVER', 'INSURANCE COMPANY\\nPROGRESSIVE', 'LP STATE\\nO H', 'LICENSE PLATE#\\nJHW3885', '# OCCUPANTS\\n1', 'UNIT #\\n1', 'NAME:\\nLAST, FIRST, MIDDLE\\nSTANTO, QUINN NICOLE', 'DATE OF BIRTH\\n0 4 1 3 1 9 8 0', 'AGE\\n4 1', 'GENDER\\nF', 'ADDRESS:\\nCITY, STATE, ZIP\\n1754 BROWNSTONE BLVD - H, TOLEDO, OH 43601']\n"
     ]
    }
   ],
   "source": [
    "print(all_annots)"
   ]
  },
  {
   "cell_type": "markdown",
   "id": "a972e9a7",
   "metadata": {},
   "source": [
    "## Cleaning for excel"
   ]
  },
  {
   "cell_type": "code",
   "execution_count": 17,
   "id": "96b29849",
   "metadata": {},
   "outputs": [],
   "source": [
    "cont=[]"
   ]
  },
  {
   "cell_type": "code",
   "execution_count": 18,
   "id": "0fc72b53",
   "metadata": {},
   "outputs": [],
   "source": [
    "# Splitting to form column name and its values\n",
    "for i in range(0,len(all_annots)):\n",
    "    cont.append(all_annots[i].split('\\n',1))"
   ]
  },
  {
   "cell_type": "code",
   "execution_count": 19,
   "id": "93ff5732",
   "metadata": {},
   "outputs": [],
   "source": [
    "# Removing unnecessary symbols *,#,:\n",
    "liss=[]\n",
    "for i in range(0,len(cont)):\n",
    "    lis=[]\n",
    "    for j in cont[i]:\n",
    "        j=j.replace('*','')\n",
    "        j=j.replace('#','')\n",
    "        j=j.replace(':','')\n",
    "        j=j.strip()\n",
    "        #print(j)\n",
    "        lis.append(j)\n",
    "    liss.append(lis)"
   ]
  },
  {
   "cell_type": "code",
   "execution_count": 20,
   "id": "edeb3e1f",
   "metadata": {},
   "outputs": [],
   "source": [
    "# Spliting into keys and values\n",
    "keys=[]\n",
    "values=[]\n",
    "for i in liss:\n",
    "    keys.append(i[0])\n",
    "    values.append(i[1])"
   ]
  },
  {
   "cell_type": "code",
   "execution_count": 21,
   "id": "5275a268",
   "metadata": {},
   "outputs": [],
   "source": [
    "# Removing spaces in the values which only contain digits\n",
    "for i in range(0, len(values)):\n",
    "    for j in range(0,len(values[i])):\n",
    "        if values[i][j]>='A' and values[i][j]<='Z':\n",
    "            break            \n",
    "    if j==len(values[i])-1:\n",
    "        values[i]=values[i].replace(' ','')"
   ]
  },
  {
   "cell_type": "code",
   "execution_count": 22,
   "id": "f36886b1",
   "metadata": {},
   "outputs": [],
   "source": [
    "# converting to dictionay\n",
    "report=dict(zip(keys,values))"
   ]
  },
  {
   "cell_type": "code",
   "execution_count": 23,
   "id": "a5a91200",
   "metadata": {},
   "outputs": [
    {
     "data": {
      "text/plain": [
       "{'LOCAL REPORT NUMBER': '21009048',\n",
       " 'CRASH SEVERITY': 'FATAL\\n1-\\nSERIOUS INJURY\\nSUSPECTED\\n2-\\n5\\nMINOR INJURY\\n3-\\nSUSPECTED\\nINJURY POSSIBLE\\n4-\\nPROPERTY DAMAGE\\n5-\\nONLY',\n",
       " 'NUMBER OF UNITS': '01',\n",
       " 'CRASH DATE/TIME': '042520210528',\n",
       " 'LOCATION CITY, VILLAGE, TOWNSHIP': 'MANSFIELD',\n",
       " 'COUNTY': '70',\n",
       " 'LOCALITY': '1. CITY\\n2. VILLAGE\\n1\\n3. TOWNSHIP',\n",
       " 'LATITUDE': '40790620\\n.',\n",
       " 'LONGITUDE': '-82513210\\n.',\n",
       " 'MANNER OF CRASH COLLISION/IMPACT': '1 - NOT COLLISSION\\n4 - REAR-TO-REAR\\nBETWEEN\\n5 - BACKING\\nTWO MOTOR\\n6 - ANGLE\\nVEHICLES IN\\n7 - SIDESWIPE, SAME DIRECTION\\nTRANSPORT\\n8 - SIDESWIPE, OPPOSITE DIRECTION\\n2 - REAR-END\\n9 - OTHER / UNKNOWN\\n3 - HEAD-ON\\n1',\n",
       " \"OFFICER'S NAME\": 'CAROLYN YOUNG',\n",
       " \"OFFICER'S BADGE NUMBER\": '1754',\n",
       " 'VEHICLE IDENTIFICATION': '2HKRW6H31JH209811',\n",
       " 'VEHICLE YEAR': '2018',\n",
       " 'VEHICLE MAKE': 'HONDA',\n",
       " 'VEHICLE MODEL': 'CRV',\n",
       " 'COLOR': 'SILVER',\n",
       " 'INSURANCE COMPANY': 'PROGRESSIVE',\n",
       " 'LP STATE': 'O H',\n",
       " 'LICENSE PLATE': 'JHW3885',\n",
       " 'OCCUPANTS': '1',\n",
       " 'UNIT': '1',\n",
       " 'NAME': 'LAST, FIRST, MIDDLE\\nSTANTO, QUINN NICOLE',\n",
       " 'DATE OF BIRTH': '04131980',\n",
       " 'AGE': '41',\n",
       " 'GENDER': 'F',\n",
       " 'ADDRESS': 'CITY, STATE, ZIP\\n1754 BROWNSTONE BLVD - H, TOLEDO, OH 43601'}"
      ]
     },
     "execution_count": 23,
     "metadata": {},
     "output_type": "execute_result"
    }
   ],
   "source": [
    "report['VEHICLE IDENTIFICATION']=report['VEHICLE IDENTIFICATION'].replace(' ','')\n",
    "report"
   ]
  },
  {
   "cell_type": "code",
   "execution_count": 24,
   "id": "80833cb3",
   "metadata": {},
   "outputs": [
    {
     "name": "stdout",
     "output_type": "stream",
     "text": [
      "['1. CITY\\n', '2. VILLAGE\\n', '1\\n', '3. TOWNSHIP']\n",
      "['1 - NOT COLLISSION\\n', '4 - REAR-TO-REAR\\nBETWEEN\\n', '5 - BACKING\\nTWO MOTOR\\n', '6 - ANGLE\\nVEHICLES IN\\n', '7 - SIDESWIPE, SAME DIRECTION\\nTRANSPORT\\n', '8 - SIDESWIPE, OPPOSITE DIRECTION\\n', '2 - REAR-END\\n', '9 - OTHER / UNKNOWN\\n', '3 - HEAD-ON\\n', '1']\n",
      "['FATAL\\n', '1-\\nSERIOUS INJURY\\nSUSPECTED\\n', '2-\\n', '5\\nMINOR INJURY\\n', '3-\\nSUSPECTED\\nINJURY POSSIBLE\\n', '4-\\nPROPERTY DAMAGE\\n', '5-\\nONLY']\n"
     ]
    }
   ],
   "source": [
    "# Handling the dictionary key-pair columns and extracting value based on key\n",
    "dic=[report['LOCALITY'],report['MANNER OF CRASH COLLISION/IMPACT'],report['CRASH SEVERITY']]\n",
    "l=0\n",
    "val_after=[]\n",
    "for local in dic:\n",
    "    li=[]\n",
    "    lii=[]\n",
    "    k=''\n",
    "    extract=''\n",
    "    l=0\n",
    "    for i in range(0,len(local)-1):\n",
    "        if local[i+1]>='0' and local[i+1]<='9':\n",
    "            li.append(local[l:i+1])\n",
    "            l=i+1\n",
    "    li.append(local[l:])\n",
    "    print(li)\n",
    "    for i in li:\n",
    "        if i[0] in lii:\n",
    "            k=i[0]\n",
    "            break\n",
    "        lii.append(i[0])\n",
    "        \n",
    "    for i in li:\n",
    "        if i[0]==k:\n",
    "            extract=i\n",
    "            val_after.append(extract)\n",
    "            break\n",
    "report['LOCALITY']=val_after[0]\n",
    "report['MANNER OF CRASH COLLISION/IMPACT']=val_after[1]\n",
    "report['CRASH SEVERITY']=val_after[2]"
   ]
  },
  {
   "cell_type": "code",
   "execution_count": 25,
   "id": "901f631e",
   "metadata": {},
   "outputs": [],
   "source": [
    "# Removing next line character from the dictionary and converting to form to convert it to dataframe\n",
    "for key in report:\n",
    "    report[key]=report[key].replace('\\n',' ')\n",
    "    report[key]=report[key].strip()\n",
    "    report[key]=[(report[key])]"
   ]
  },
  {
   "cell_type": "markdown",
   "id": "613e2701",
   "metadata": {},
   "source": [
    "## Exporting to Exel"
   ]
  },
  {
   "cell_type": "code",
   "execution_count": 26,
   "id": "762ac7f6",
   "metadata": {},
   "outputs": [],
   "source": [
    "# Converting to DataFrame\n",
    "data=pd.DataFrame.from_dict(report)"
   ]
  },
  {
   "cell_type": "code",
   "execution_count": 27,
   "id": "44d2ad70",
   "metadata": {},
   "outputs": [
    {
     "data": {
      "text/html": [
       "<div>\n",
       "<style scoped>\n",
       "    .dataframe tbody tr th:only-of-type {\n",
       "        vertical-align: middle;\n",
       "    }\n",
       "\n",
       "    .dataframe tbody tr th {\n",
       "        vertical-align: top;\n",
       "    }\n",
       "\n",
       "    .dataframe thead th {\n",
       "        text-align: right;\n",
       "    }\n",
       "</style>\n",
       "<table border=\"1\" class=\"dataframe\">\n",
       "  <thead>\n",
       "    <tr style=\"text-align: right;\">\n",
       "      <th></th>\n",
       "      <th>LOCAL REPORT NUMBER</th>\n",
       "      <th>CRASH SEVERITY</th>\n",
       "      <th>NUMBER OF UNITS</th>\n",
       "      <th>CRASH DATE/TIME</th>\n",
       "      <th>LOCATION CITY, VILLAGE, TOWNSHIP</th>\n",
       "      <th>COUNTY</th>\n",
       "      <th>LOCALITY</th>\n",
       "      <th>LATITUDE</th>\n",
       "      <th>LONGITUDE</th>\n",
       "      <th>MANNER OF CRASH COLLISION/IMPACT</th>\n",
       "      <th>...</th>\n",
       "      <th>INSURANCE COMPANY</th>\n",
       "      <th>LP STATE</th>\n",
       "      <th>LICENSE PLATE</th>\n",
       "      <th>OCCUPANTS</th>\n",
       "      <th>UNIT</th>\n",
       "      <th>NAME</th>\n",
       "      <th>DATE OF BIRTH</th>\n",
       "      <th>AGE</th>\n",
       "      <th>GENDER</th>\n",
       "      <th>ADDRESS</th>\n",
       "    </tr>\n",
       "  </thead>\n",
       "  <tbody>\n",
       "    <tr>\n",
       "      <th>0</th>\n",
       "      <td>21009048</td>\n",
       "      <td>5 MINOR INJURY</td>\n",
       "      <td>01</td>\n",
       "      <td>042520210528</td>\n",
       "      <td>MANSFIELD</td>\n",
       "      <td>70</td>\n",
       "      <td>1. CITY</td>\n",
       "      <td>40790620 .</td>\n",
       "      <td>-82513210 .</td>\n",
       "      <td>1 - NOT COLLISSION</td>\n",
       "      <td>...</td>\n",
       "      <td>PROGRESSIVE</td>\n",
       "      <td>O H</td>\n",
       "      <td>JHW3885</td>\n",
       "      <td>1</td>\n",
       "      <td>1</td>\n",
       "      <td>LAST, FIRST, MIDDLE STANTO, QUINN NICOLE</td>\n",
       "      <td>04131980</td>\n",
       "      <td>41</td>\n",
       "      <td>F</td>\n",
       "      <td>CITY, STATE, ZIP 1754 BROWNSTONE BLVD - H, TOL...</td>\n",
       "    </tr>\n",
       "  </tbody>\n",
       "</table>\n",
       "<p>1 rows × 27 columns</p>\n",
       "</div>"
      ],
      "text/plain": [
       "  LOCAL REPORT NUMBER  CRASH SEVERITY NUMBER OF UNITS CRASH DATE/TIME  \\\n",
       "0            21009048  5 MINOR INJURY              01    042520210528   \n",
       "\n",
       "  LOCATION CITY, VILLAGE, TOWNSHIP COUNTY LOCALITY    LATITUDE    LONGITUDE  \\\n",
       "0                        MANSFIELD     70  1. CITY  40790620 .  -82513210 .   \n",
       "\n",
       "  MANNER OF CRASH COLLISION/IMPACT  ... INSURANCE COMPANY LP STATE  \\\n",
       "0               1 - NOT COLLISSION  ...       PROGRESSIVE      O H   \n",
       "\n",
       "  LICENSE PLATE OCCUPANTS UNIT                                      NAME  \\\n",
       "0       JHW3885         1    1  LAST, FIRST, MIDDLE STANTO, QUINN NICOLE   \n",
       "\n",
       "  DATE OF BIRTH AGE GENDER                                            ADDRESS  \n",
       "0      04131980  41      F  CITY, STATE, ZIP 1754 BROWNSTONE BLVD - H, TOL...  \n",
       "\n",
       "[1 rows x 27 columns]"
      ]
     },
     "execution_count": 27,
     "metadata": {},
     "output_type": "execute_result"
    }
   ],
   "source": [
    "data"
   ]
  },
  {
   "cell_type": "code",
   "execution_count": 28,
   "id": "9c41bbef",
   "metadata": {},
   "outputs": [],
   "source": [
    "#Exporting to CSV\n",
    "data.to_csv('result.csv',index=False)"
   ]
  }
 ],
 "metadata": {
  "kernelspec": {
   "display_name": "Python 3",
   "language": "python",
   "name": "python3"
  },
  "language_info": {
   "codemirror_mode": {
    "name": "ipython",
    "version": 3
   },
   "file_extension": ".py",
   "mimetype": "text/x-python",
   "name": "python",
   "nbconvert_exporter": "python",
   "pygments_lexer": "ipython3",
   "version": "3.7.4"
  }
 },
 "nbformat": 4,
 "nbformat_minor": 5
}
